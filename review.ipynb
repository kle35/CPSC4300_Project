{
 "cells": [
  {
   "cell_type": "code",
   "execution_count": 29,
   "metadata": {},
   "outputs": [],
   "source": [
    "import pandas as pd\n",
    "import matplotlib.pyplot as plt"
   ]
  },
  {
   "cell_type": "code",
   "execution_count": 30,
   "metadata": {},
   "outputs": [],
   "source": [
    "data = pd.read_csv('airpod_reviews_cleaned.csv')"
   ]
  },
  {
   "cell_type": "code",
   "execution_count": 31,
   "metadata": {},
   "outputs": [
    {
     "data": {
      "text/html": [
       "<div>\n",
       "<style scoped>\n",
       "    .dataframe tbody tr th:only-of-type {\n",
       "        vertical-align: middle;\n",
       "    }\n",
       "\n",
       "    .dataframe tbody tr th {\n",
       "        vertical-align: top;\n",
       "    }\n",
       "\n",
       "    .dataframe thead th {\n",
       "        text-align: right;\n",
       "    }\n",
       "</style>\n",
       "<table border=\"1\" class=\"dataframe\">\n",
       "  <thead>\n",
       "    <tr style=\"text-align: right;\">\n",
       "      <th></th>\n",
       "      <th>username</th>\n",
       "      <th>rating</th>\n",
       "      <th>initial_statement</th>\n",
       "      <th>country</th>\n",
       "      <th>verified</th>\n",
       "      <th>review</th>\n",
       "      <th>usefulness</th>\n",
       "      <th>date</th>\n",
       "      <th>positive</th>\n",
       "    </tr>\n",
       "  </thead>\n",
       "  <tbody>\n",
       "    <tr>\n",
       "      <th>0</th>\n",
       "      <td>Asia underwood</td>\n",
       "      <td>4</td>\n",
       "      <td>It has good noise cancellation the only proble...</td>\n",
       "      <td>United States</td>\n",
       "      <td>1</td>\n",
       "      <td>so when i boought before, i knew what i wanted...</td>\n",
       "      <td>7</td>\n",
       "      <td>2023-02-01</td>\n",
       "      <td>1</td>\n",
       "    </tr>\n",
       "    <tr>\n",
       "      <th>1</th>\n",
       "      <td>Katie</td>\n",
       "      <td>4</td>\n",
       "      <td>Love before Headphones</td>\n",
       "      <td>United States</td>\n",
       "      <td>1</td>\n",
       "      <td>I boought these headphones Last Year and they ...</td>\n",
       "      <td>6</td>\n",
       "      <td>2023-02-02</td>\n",
       "      <td>1</td>\n",
       "    </tr>\n",
       "    <tr>\n",
       "      <th>2</th>\n",
       "      <td>Sean Connolly</td>\n",
       "      <td>4</td>\n",
       "      <td>Solid</td>\n",
       "      <td>United States</td>\n",
       "      <td>1</td>\n",
       "      <td>The Noise Cancellation Feature Is Vry Cool, an...</td>\n",
       "      <td>6</td>\n",
       "      <td>2022-12-12</td>\n",
       "      <td>1</td>\n",
       "    </tr>\n",
       "    <tr>\n",
       "      <th>3</th>\n",
       "      <td>Michelle</td>\n",
       "      <td>5</td>\n",
       "      <td>BUY IT RN</td>\n",
       "      <td>United States</td>\n",
       "      <td>1</td>\n",
       "      <td>I was a little bit skeptical at first scholaus...</td>\n",
       "      <td>7</td>\n",
       "      <td>2023-01-17</td>\n",
       "      <td>1</td>\n",
       "    </tr>\n",
       "    <tr>\n",
       "      <th>4</th>\n",
       "      <td>Jayden</td>\n",
       "      <td>5</td>\n",
       "      <td>Greta Product Slightly Dirty</td>\n",
       "      <td>United States</td>\n",
       "      <td>1</td>\n",
       "      <td>EveryTHING WORKS! The Only Down Sid Eid there ...</td>\n",
       "      <td>0</td>\n",
       "      <td>2023-02-15</td>\n",
       "      <td>1</td>\n",
       "    </tr>\n",
       "    <tr>\n",
       "      <th>...</th>\n",
       "      <td>...</td>\n",
       "      <td>...</td>\n",
       "      <td>...</td>\n",
       "      <td>...</td>\n",
       "      <td>...</td>\n",
       "      <td>...</td>\n",
       "      <td>...</td>\n",
       "      <td>...</td>\n",
       "      <td>...</td>\n",
       "    </tr>\n",
       "    <tr>\n",
       "      <th>1974</th>\n",
       "      <td>PEDRO VALDOVINOS GAONA</td>\n",
       "      <td>2</td>\n",
       "      <td>That the product is in good condition.</td>\n",
       "      <td>Mexico</td>\n",
       "      <td>1</td>\n",
       "      <td>The product was downloaded very quickly even t...</td>\n",
       "      <td>0</td>\n",
       "      <td>2021-06-24</td>\n",
       "      <td>0</td>\n",
       "    </tr>\n",
       "    <tr>\n",
       "      <th>1975</th>\n",
       "      <td>maac08</td>\n",
       "      <td>5</td>\n",
       "      <td>highly recommended</td>\n",
       "      <td>Mexico</td>\n",
       "      <td>1</td>\n",
       "      <td>Excellent to use in calls</td>\n",
       "      <td>0</td>\n",
       "      <td>2021-06-01</td>\n",
       "      <td>1</td>\n",
       "    </tr>\n",
       "    <tr>\n",
       "      <th>1976</th>\n",
       "      <td>Maximiliano</td>\n",
       "      <td>1</td>\n",
       "      <td>The headphones box came to me, that it was wet...</td>\n",
       "      <td>Mexico</td>\n",
       "      <td>1</td>\n",
       "      <td>Apparently somewhere, the original headphones ...</td>\n",
       "      <td>1</td>\n",
       "      <td>2022-09-19</td>\n",
       "      <td>0</td>\n",
       "    </tr>\n",
       "    <tr>\n",
       "      <th>1977</th>\n",
       "      <td>Antonio Meré</td>\n",
       "      <td>5</td>\n",
       "      <td>Excellent</td>\n",
       "      <td>Mexico</td>\n",
       "      <td>1</td>\n",
       "      <td>Excellent</td>\n",
       "      <td>0</td>\n",
       "      <td>2021-05-22</td>\n",
       "      <td>1</td>\n",
       "    </tr>\n",
       "    <tr>\n",
       "      <th>1978</th>\n",
       "      <td>diego</td>\n",
       "      <td>1</td>\n",
       "      <td>Completely unusable right audipbon.</td>\n",
       "      <td>Mexico</td>\n",
       "      <td>1</td>\n",
       "      <td>All the packaging was in very good condition, ...</td>\n",
       "      <td>1</td>\n",
       "      <td>2021-10-04</td>\n",
       "      <td>0</td>\n",
       "    </tr>\n",
       "  </tbody>\n",
       "</table>\n",
       "<p>1979 rows × 9 columns</p>\n",
       "</div>"
      ],
      "text/plain": [
       "                    username  rating  \\\n",
       "0             Asia underwood       4   \n",
       "1                      Katie       4   \n",
       "2              Sean Connolly       4   \n",
       "3                   Michelle       5   \n",
       "4                     Jayden       5   \n",
       "...                      ...     ...   \n",
       "1974  PEDRO VALDOVINOS GAONA       2   \n",
       "1975                  maac08       5   \n",
       "1976             Maximiliano       1   \n",
       "1977            Antonio Meré       5   \n",
       "1978                   diego       1   \n",
       "\n",
       "                                      initial_statement        country  \\\n",
       "0     It has good noise cancellation the only proble...  United States   \n",
       "1                                Love before Headphones  United States   \n",
       "2                                                 Solid  United States   \n",
       "3                                             BUY IT RN  United States   \n",
       "4                          Greta Product Slightly Dirty  United States   \n",
       "...                                                 ...            ...   \n",
       "1974             That the product is in good condition.         Mexico   \n",
       "1975                                 highly recommended         Mexico   \n",
       "1976  The headphones box came to me, that it was wet...         Mexico   \n",
       "1977                                          Excellent         Mexico   \n",
       "1978                Completely unusable right audipbon.         Mexico   \n",
       "\n",
       "      verified                                             review  usefulness  \\\n",
       "0            1  so when i boought before, i knew what i wanted...           7   \n",
       "1            1  I boought these headphones Last Year and they ...           6   \n",
       "2            1  The Noise Cancellation Feature Is Vry Cool, an...           6   \n",
       "3            1  I was a little bit skeptical at first scholaus...           7   \n",
       "4            1  EveryTHING WORKS! The Only Down Sid Eid there ...           0   \n",
       "...        ...                                                ...         ...   \n",
       "1974         1  The product was downloaded very quickly even t...           0   \n",
       "1975         1                          Excellent to use in calls           0   \n",
       "1976         1  Apparently somewhere, the original headphones ...           1   \n",
       "1977         1                                          Excellent           0   \n",
       "1978         1  All the packaging was in very good condition, ...           1   \n",
       "\n",
       "            date  positive  \n",
       "0     2023-02-01         1  \n",
       "1     2023-02-02         1  \n",
       "2     2022-12-12         1  \n",
       "3     2023-01-17         1  \n",
       "4     2023-02-15         1  \n",
       "...          ...       ...  \n",
       "1974  2021-06-24         0  \n",
       "1975  2021-06-01         1  \n",
       "1976  2022-09-19         0  \n",
       "1977  2021-05-22         1  \n",
       "1978  2021-10-04         0  \n",
       "\n",
       "[1979 rows x 9 columns]"
      ]
     },
     "execution_count": 31,
     "metadata": {},
     "output_type": "execute_result"
    }
   ],
   "source": [
    "data"
   ]
  },
  {
   "cell_type": "code",
   "execution_count": 32,
   "metadata": {},
   "outputs": [
    {
     "data": {
      "text/plain": [
       "3.322052401746725"
      ]
     },
     "execution_count": 32,
     "metadata": {},
     "output_type": "execute_result"
    }
   ],
   "source": [
    "us_rating_mean = data.loc[data['country'] == 'United States', 'rating'].mean()\n",
    "us_std = data.loc[data['country'] == 'United States', 'rating'].std()\n",
    "us_rating_mean"
   ]
  },
  {
   "cell_type": "code",
   "execution_count": 33,
   "metadata": {},
   "outputs": [
    {
     "data": {
      "text/plain": [
       "4.075187969924812"
      ]
     },
     "execution_count": 33,
     "metadata": {},
     "output_type": "execute_result"
    }
   ],
   "source": [
    "mexico_rating_mean = data.loc[data['country'] == 'Mexico', 'rating'].mean()\n",
    "mexico_rating_mean"
   ]
  },
  {
   "cell_type": "code",
   "execution_count": 34,
   "metadata": {},
   "outputs": [
    {
     "data": {
      "text/plain": [
       "2.5714285714285716"
      ]
     },
     "execution_count": 34,
     "metadata": {},
     "output_type": "execute_result"
    }
   ],
   "source": [
    "canada_rating_mean = data.loc[data['country'] == 'Canada', 'rating'].mean()\n",
    "canada_rating_mean"
   ]
  },
  {
   "cell_type": "code",
   "execution_count": 35,
   "metadata": {},
   "outputs": [
    {
     "data": {
      "image/png": "[encoded data removed]",
      "text/plain": [
       "<Figure size 1000x800 with 4 Axes>"
      ]
     },
     "metadata": {},
     "output_type": "display_data"
    }
   ],
   "source": [
    "data.hist(column='rating', by='country', figsize=(10, 8))\n",
    "\n",
    "# set the title and axis labels\n",
    "plt.suptitle('Histogram of Rating by Country')\n",
    "plt.xlabel('Rating')\n",
    "plt.ylabel('Frequency')\n",
    "\n",
    "# show the plot\n",
    "plt.show()"
   ]
  },
  {
   "cell_type": "code",
   "execution_count": 36,
   "metadata": {},
   "outputs": [
    {
     "data": {
      "image/png": "[encoded data removed]",
      "text/plain": [
       "<Figure size 1000x800 with 1 Axes>"
      ]
     },
     "metadata": {},
     "output_type": "display_data"
    }
   ],
   "source": [
    "avg_rating_by_country = data.groupby('country')['rating'].mean()\n",
    "\n",
    "# create a bar chart of the average rating for each country\n",
    "avg_rating_by_country.plot(kind='bar', figsize=(10, 8))\n",
    "\n",
    "# set the title and axis labels\n",
    "plt.title('Average Rating by Country')\n",
    "plt.xlabel('Country')\n",
    "plt.ylabel('Average Rating')\n",
    "\n",
    "# show the plot\n",
    "plt.show()"
   ]
  },
  {
   "cell_type": "code",
   "execution_count": 37,
   "metadata": {},
   "outputs": [
    {
     "data": {
      "text/plain": [
       "1125"
      ]
     },
     "execution_count": 37,
     "metadata": {},
     "output_type": "execute_result"
    }
   ],
   "source": [
    "num_positive = (data['positive'] == 1).sum()\n",
    "num_critical = (data['positive'] == 0).sum()\n",
    "num_positive"
   ]
  },
  {
   "cell_type": "code",
   "execution_count": 38,
   "metadata": {},
   "outputs": [
    {
     "data": {
      "text/plain": [
       "854"
      ]
     },
     "execution_count": 38,
     "metadata": {},
     "output_type": "execute_result"
    }
   ],
   "source": [
    "num_critical"
   ]
  },
  {
   "cell_type": "code",
   "execution_count": 39,
   "metadata": {},
   "outputs": [
    {
     "data": {
      "text/plain": [
       "3.367357251136938"
      ]
     },
     "execution_count": 39,
     "metadata": {},
     "output_type": "execute_result"
    }
   ],
   "source": [
    "average_rating = data['rating'].mean()\n",
    "average_rating"
   ]
  },
  {
   "cell_type": "code",
   "execution_count": null,
   "metadata": {},
   "outputs": [],
   "source": []
  }
 ],
 "metadata": {
  "kernelspec": {
   "display_name": "Python 3",
   "language": "python",
   "name": "python3"
  },
  "language_info": {
   "codemirror_mode": {
    "name": "ipython",
    "version": 3
   },
   "file_extension": ".py",
   "mimetype": "text/x-python",
   "name": "python",
   "nbconvert_exporter": "python",
   "pygments_lexer": "ipython3",
   "version": "3.11.1"
  },
  "orig_nbformat": 4,
  "vscode": {
   "interpreter": {
    "hash": "a06fb0db943f72dfcea2ce9262aebb372cadca1ea96c4ba4990e9f2d78b6f233"
   }
  }
 },
 "nbformat": 4,
 "nbformat_minor": 2
}
